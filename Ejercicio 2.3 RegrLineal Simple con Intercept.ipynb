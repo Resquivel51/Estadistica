{
 "cells": [
  {
   "cell_type": "code",
   "execution_count": 5,
   "metadata": {},
   "outputs": [],
   "source": [
    "import pandas as pd\n",
    "import statsmodels.formula.api as smf\n",
    "import matplotlib.pyplot as plt\n",
    "import numpy as np\n",
    "import scipy.stats as st\n",
    "import seaborn as sns\n",
    "from sklearn import datasets, linear_model\n",
    "%matplotlib inline"
   ]
  },
  {
   "cell_type": "code",
   "execution_count": 6,
   "metadata": {},
   "outputs": [
    {
     "data": {
      "text/html": [
       "<div>\n",
       "<style scoped>\n",
       "    .dataframe tbody tr th:only-of-type {\n",
       "        vertical-align: middle;\n",
       "    }\n",
       "\n",
       "    .dataframe tbody tr th {\n",
       "        vertical-align: top;\n",
       "    }\n",
       "\n",
       "    .dataframe thead th {\n",
       "        text-align: right;\n",
       "    }\n",
       "</style>\n",
       "<table border=\"1\" class=\"dataframe\">\n",
       "  <thead>\n",
       "    <tr style=\"text-align: right;\">\n",
       "      <th></th>\n",
       "      <th>Observation</th>\n",
       "      <th>Velocidad</th>\n",
       "      <th>Contenido</th>\n",
       "    </tr>\n",
       "  </thead>\n",
       "  <tbody>\n",
       "    <tr>\n",
       "      <th>0</th>\n",
       "      <td>1</td>\n",
       "      <td>125.3</td>\n",
       "      <td>77.9</td>\n",
       "    </tr>\n",
       "    <tr>\n",
       "      <th>1</th>\n",
       "      <td>2</td>\n",
       "      <td>98.2</td>\n",
       "      <td>76.8</td>\n",
       "    </tr>\n",
       "    <tr>\n",
       "      <th>2</th>\n",
       "      <td>3</td>\n",
       "      <td>201.4</td>\n",
       "      <td>81.5</td>\n",
       "    </tr>\n",
       "    <tr>\n",
       "      <th>3</th>\n",
       "      <td>4</td>\n",
       "      <td>147.3</td>\n",
       "      <td>79.8</td>\n",
       "    </tr>\n",
       "    <tr>\n",
       "      <th>4</th>\n",
       "      <td>5</td>\n",
       "      <td>145.9</td>\n",
       "      <td>78.2</td>\n",
       "    </tr>\n",
       "  </tbody>\n",
       "</table>\n",
       "</div>"
      ],
      "text/plain": [
       "   Observation  Velocidad  Contenido\n",
       "0            1      125.3       77.9\n",
       "1            2       98.2       76.8\n",
       "2            3      201.4       81.5\n",
       "3            4      147.3       79.8\n",
       "4            5      145.9       78.2"
      ]
     },
     "execution_count": 6,
     "metadata": {},
     "output_type": "execute_result"
    }
   ],
   "source": [
    "df = pd.read_excel('C:/Users/RicardoEsquivel/Desktop/Estadistica/Estadistica/Ejercicio_2.3.xlsx')\n",
    "df.head()"
   ]
  },
  {
   "cell_type": "code",
   "execution_count": 7,
   "metadata": {},
   "outputs": [
    {
     "data": {
      "text/html": [
       "<div>\n",
       "<style scoped>\n",
       "    .dataframe tbody tr th:only-of-type {\n",
       "        vertical-align: middle;\n",
       "    }\n",
       "\n",
       "    .dataframe tbody tr th {\n",
       "        vertical-align: top;\n",
       "    }\n",
       "\n",
       "    .dataframe thead th {\n",
       "        text-align: right;\n",
       "    }\n",
       "</style>\n",
       "<table border=\"1\" class=\"dataframe\">\n",
       "  <thead>\n",
       "    <tr style=\"text-align: right;\">\n",
       "      <th></th>\n",
       "      <th>Observation</th>\n",
       "      <th>Velocidad</th>\n",
       "      <th>Contenido</th>\n",
       "    </tr>\n",
       "  </thead>\n",
       "  <tbody>\n",
       "    <tr>\n",
       "      <th>count</th>\n",
       "      <td>20.00000</td>\n",
       "      <td>20.000000</td>\n",
       "      <td>20.00000</td>\n",
       "    </tr>\n",
       "    <tr>\n",
       "      <th>mean</th>\n",
       "      <td>10.50000</td>\n",
       "      <td>140.895000</td>\n",
       "      <td>78.74000</td>\n",
       "    </tr>\n",
       "    <tr>\n",
       "      <th>std</th>\n",
       "      <td>5.91608</td>\n",
       "      <td>31.557658</td>\n",
       "      <td>1.44783</td>\n",
       "    </tr>\n",
       "    <tr>\n",
       "      <th>min</th>\n",
       "      <td>1.00000</td>\n",
       "      <td>75.100000</td>\n",
       "      <td>76.70000</td>\n",
       "    </tr>\n",
       "    <tr>\n",
       "      <th>25%</th>\n",
       "      <td>5.75000</td>\n",
       "      <td>123.575000</td>\n",
       "      <td>77.80000</td>\n",
       "    </tr>\n",
       "    <tr>\n",
       "      <th>50%</th>\n",
       "      <td>10.50000</td>\n",
       "      <td>145.000000</td>\n",
       "      <td>78.45000</td>\n",
       "    </tr>\n",
       "    <tr>\n",
       "      <th>75%</th>\n",
       "      <td>15.25000</td>\n",
       "      <td>159.525000</td>\n",
       "      <td>79.82500</td>\n",
       "    </tr>\n",
       "    <tr>\n",
       "      <th>max</th>\n",
       "      <td>20.00000</td>\n",
       "      <td>201.400000</td>\n",
       "      <td>81.50000</td>\n",
       "    </tr>\n",
       "  </tbody>\n",
       "</table>\n",
       "</div>"
      ],
      "text/plain": [
       "       Observation   Velocidad  Contenido\n",
       "count     20.00000   20.000000   20.00000\n",
       "mean      10.50000  140.895000   78.74000\n",
       "std        5.91608   31.557658    1.44783\n",
       "min        1.00000   75.100000   76.70000\n",
       "25%        5.75000  123.575000   77.80000\n",
       "50%       10.50000  145.000000   78.45000\n",
       "75%       15.25000  159.525000   79.82500\n",
       "max       20.00000  201.400000   81.50000"
      ]
     },
     "execution_count": 7,
     "metadata": {},
     "output_type": "execute_result"
    }
   ],
   "source": [
    "#Reportabilidad de estadísticas\n",
    "df.describe()"
   ]
  },
  {
   "cell_type": "markdown",
   "metadata": {},
   "source": [
    "# Gráfico de dispersión"
   ]
  },
  {
   "cell_type": "code",
   "execution_count": 8,
   "metadata": {},
   "outputs": [
    {
     "data": {
      "text/plain": [
       "<matplotlib.axes._subplots.AxesSubplot at 0x25477b10400>"
      ]
     },
     "execution_count": 8,
     "metadata": {},
     "output_type": "execute_result"
    },
    {
     "data": {
      "image/png": "[encoded data removed]",
      "text/plain": [
       "<Figure size 432x288 with 1 Axes>"
      ]
     },
     "metadata": {
      "needs_background": "light"
     },
     "output_type": "display_data"
    }
   ],
   "source": [
    "#Grafico de dispersión\n",
    "df.plot.scatter('Velocidad', 'Contenido')"
   ]
  },
  {
   "cell_type": "markdown",
   "metadata": {},
   "source": [
    "# Estaimación de la recta de regresión"
   ]
  },
  {
   "cell_type": "code",
   "execution_count": 9,
   "metadata": {},
   "outputs": [],
   "source": [
    "lr = linear_model.LinearRegression()"
   ]
  },
  {
   "cell_type": "code",
   "execution_count": 10,
   "metadata": {},
   "outputs": [],
   "source": [
    "X = df['Velocidad'].values.reshape(-1,1)\n",
    "y = df['Contenido'].values.reshape(-1,1)"
   ]
  },
  {
   "cell_type": "code",
   "execution_count": 11,
   "metadata": {},
   "outputs": [
    {
     "data": {
      "text/plain": [
       "LinearRegression(copy_X=True, fit_intercept=True, n_jobs=1, normalize=False)"
      ]
     },
     "execution_count": 11,
     "metadata": {},
     "output_type": "execute_result"
    }
   ],
   "source": [
    "lr.fit(X, y)"
   ]
  },
  {
   "cell_type": "code",
   "execution_count": 12,
   "metadata": {},
   "outputs": [
    {
     "name": "stdout",
     "output_type": "stream",
     "text": [
      "La recta de regresión es: y = 72.958547 + 0.041034 * X\n"
     ]
    }
   ],
   "source": [
    "slope = lr.coef_\n",
    "intercept = lr.intercept_\n",
    "\n",
    "print ('La recta de regresión es: y = %f + %f * X'%(lr.intercept_, slope))"
   ]
  },
  {
   "cell_type": "markdown",
   "metadata": {},
   "source": [
    "### La recta de regresión es: y = 72.958547 + 0.041034 * X"
   ]
  },
  {
   "cell_type": "markdown",
   "metadata": {},
   "source": [
    "# Tabla ANOVA"
   ]
  },
  {
   "cell_type": "code",
   "execution_count": 13,
   "metadata": {
    "scrolled": false
   },
   "outputs": [
    {
     "name": "stdout",
     "output_type": "stream",
     "text": [
      "                            OLS Regression Results                            \n",
      "==============================================================================\n",
      "Dep. Variable:              Contenido   R-squared:                       0.800\n",
      "Model:                            OLS   Adj. R-squared:                  0.789\n",
      "Method:                 Least Squares   F-statistic:                     71.97\n",
      "Date:                Wed, 19 Jun 2019   Prob (F-statistic):           1.05e-07\n",
      "Time:                        12:55:30   Log-Likelihood:                -19.176\n",
      "No. Observations:                  20   AIC:                             42.35\n",
      "Df Residuals:                      18   BIC:                             44.34\n",
      "Df Model:                           1                                         \n",
      "Covariance Type:            nonrobust                                         \n",
      "==============================================================================\n",
      "                 coef    std err          t      P>|t|      [0.025      0.975]\n",
      "------------------------------------------------------------------------------\n",
      "Intercept     72.9585      0.698    104.596      0.000      71.493      74.424\n",
      "Velocidad      0.0410      0.005      8.484      0.000       0.031       0.051\n",
      "==============================================================================\n",
      "Omnibus:                        0.966   Durbin-Watson:                   2.504\n",
      "Prob(Omnibus):                  0.617   Jarque-Bera (JB):                0.846\n",
      "Skew:                          -0.445   Prob(JB):                        0.655\n",
      "Kurtosis:                       2.528   Cond. No.                         676.\n",
      "==============================================================================\n",
      "\n",
      "Warnings:\n",
      "[1] Standard Errors assume that the covariance matrix of the errors is correctly specified.\n"
     ]
    }
   ],
   "source": [
    "#TABLA ANOVA\n",
    "resultado = smf.ols('Contenido ~ Velocidad', data=df).fit()\n",
    "#resultado.summary()\n",
    "print(resultado.summary())"
   ]
  },
  {
   "cell_type": "markdown",
   "metadata": {},
   "source": [
    "# MSE del error"
   ]
  },
  {
   "cell_type": "code",
   "execution_count": 54,
   "metadata": {},
   "outputs": [
    {
     "data": {
      "text/plain": [
       "0.44266587837667043"
      ]
     },
     "execution_count": 54,
     "metadata": {},
     "output_type": "execute_result"
    }
   ],
   "source": [
    "resultado.mse_resid"
   ]
  },
  {
   "cell_type": "markdown",
   "metadata": {},
   "source": [
    "# Coeficiente de correlación y valor P"
   ]
  },
  {
   "cell_type": "code",
   "execution_count": 55,
   "metadata": {},
   "outputs": [
    {
     "data": {
      "text/plain": [
       "(0.8943937036608856, 1.0517201166338551e-07)"
      ]
     },
     "execution_count": 55,
     "metadata": {},
     "output_type": "execute_result"
    }
   ],
   "source": [
    "st.pearsonr(df['Velocidad'].values, df['Contenido'].values)"
   ]
  },
  {
   "cell_type": "markdown",
   "metadata": {},
   "source": [
    "# Regresión, Intervalo de confianza y de predicción"
   ]
  },
  {
   "cell_type": "code",
   "execution_count": 56,
   "metadata": {},
   "outputs": [],
   "source": [
    "x_val = np.linspace(df['Velocidad'].min(), df['Velocidad'].max(), 100)\n",
    "pr = resultado.get_prediction({'Velocidad': x_val})"
   ]
  },
  {
   "cell_type": "code",
   "execution_count": 57,
   "metadata": {},
   "outputs": [
    {
     "data": {
      "text/plain": [
       "Text(0,0.5,'Contenido')"
      ]
     },
     "execution_count": 57,
     "metadata": {},
     "output_type": "execute_result"
    },
    {
     "data": {
      "image/png": "[encoded data removed]",
      "text/plain": [
       "<Figure size 576x360 with 1 Axes>"
      ]
     },
     "metadata": {
      "needs_background": "light"
     },
     "output_type": "display_data"
    }
   ],
   "source": [
    "fig = plt.figure(figsize=(8, 5))\n",
    "ax = fig.add_subplot(111)\n",
    "ax.scatter(df['Velocidad'].values, df['Contenido'].values)\n",
    "ax.plot(x_val,pr.conf_int(obs=True), color='green')\n",
    "ax.plot(x_val,pr.conf_int(), color='red')\n",
    "ax.plot(x_val,pr.predicted_mean, color='blue')\n",
    "ax.set_xlabel('Velocidad')\n",
    "ax.set_ylabel('Contenido')"
   ]
  },
  {
   "cell_type": "markdown",
   "metadata": {},
   "source": [
    "# Análisis de los residuos"
   ]
  },
  {
   "cell_type": "code",
   "execution_count": 58,
   "metadata": {},
   "outputs": [
    {
     "data": {
      "text/plain": [
       "0    -0.200078\n",
       "1    -0.188063\n",
       "2     0.277252\n",
       "3     0.797179\n",
       "4    -0.745374\n",
       "5     0.224542\n",
       "6    -0.062536\n",
       "7    -0.890806\n",
       "8     0.526809\n",
       "9    -0.099488\n",
       "10    0.396567\n",
       "11    0.058729\n",
       "12    0.659817\n",
       "13   -0.971060\n",
       "14    0.624383\n",
       "15    0.012232\n",
       "16    0.383940\n",
       "17   -1.395522\n",
       "18   -0.507537\n",
       "19    1.099015\n",
       "dtype: float64"
      ]
     },
     "execution_count": 58,
     "metadata": {},
     "output_type": "execute_result"
    }
   ],
   "source": [
    "resultado.resid"
   ]
  },
  {
   "cell_type": "code",
   "execution_count": 59,
   "metadata": {},
   "outputs": [
    {
     "data": {
      "text/plain": [
       "array([-0.30071984, -0.28266092,  0.41671225,  1.19816786, -1.12030488,\n",
       "        0.33748881, -0.09399221, -1.33889085,  0.79179984, -0.14953214,\n",
       "        0.59604388,  0.08827083,  0.99171164, -1.45951288,  0.93845471,\n",
       "        0.01838448,  0.57706512, -2.09748328, -0.76283287,  1.65183047])"
      ]
     },
     "execution_count": 59,
     "metadata": {},
     "output_type": "execute_result"
    }
   ],
   "source": [
    "resultado.resid_pearson"
   ]
  },
  {
   "cell_type": "code",
   "execution_count": 111,
   "metadata": {},
   "outputs": [
    {
     "data": {
      "image/png": "[encoded data removed]",
      "text/plain": [
       "<Figure size 864x432 with 4 Axes>"
      ]
     },
     "metadata": {
      "needs_background": "light"
     },
     "output_type": "display_data"
    }
   ],
   "source": [
    "# figura que tendrá los gráficos\n",
    "fig = plt.figure(figsize=(12, 6))\n",
    "\n",
    "ax = fig.add_subplot(221)\n",
    "st.probplot(resultado.resid_pearson, plot=ax)\n",
    "\n",
    "ax = fig.add_subplot(222)\n",
    "ax.scatter(resultado.fittedvalues, resultado.resid_pearson, color='blue')\n",
    "ax.set_xlabel('Valor ajustado')\n",
    "ax.set_ylabel('Residuo estandarizado')\n",
    "ax.set_title('vs. ajustes')\n",
    "\n",
    "ax = fig.add_subplot(223)\n",
    "ax.hist(resultado.resid_pearson, bins=6)\n",
    "ax.set_xlabel('Residuo estandarizado')\n",
    "ax.set_ylabel('Frecuencia')\n",
    "ax.set_title('Histograma')\n",
    "\n",
    "ax = fig.add_subplot(224)\n",
    "ax.scatter(df['Observation'], resultado.resid_pearson, color='blue')\n",
    "ax.set_xlabel('Orden de observación')\n",
    "ax.set_ylabel('Residuo estandarizado')\n",
    "ax.set_title('vs. orden')\n",
    "\n",
    "plt.tight_layout()"
   ]
  },
  {
   "cell_type": "code",
   "execution_count": null,
   "metadata": {},
   "outputs": [],
   "source": []
  }
 ],
 "metadata": {
  "kernelspec": {
   "display_name": "Python 3",
   "language": "python",
   "name": "python3"
  },
  "language_info": {
   "codemirror_mode": {
    "name": "ipython",
    "version": 3
   },
   "file_extension": ".py",
   "mimetype": "text/x-python",
   "name": "python",
   "nbconvert_exporter": "python",
   "pygments_lexer": "ipython3",
   "version": "3.7.0"
  }
 },
 "nbformat": 4,
 "nbformat_minor": 2
}
